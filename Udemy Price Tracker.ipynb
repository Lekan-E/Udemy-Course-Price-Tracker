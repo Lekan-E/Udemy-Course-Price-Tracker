{
 "cells": [
  {
   "cell_type": "markdown",
   "metadata": {},
   "source": [
    "## Udemy Course Price Tracker\n",
    "Udemy offers a wide range of courses for learning new skills, with standard prices typically between $100 and $250. However, Udemy frequently runs flash sales, offering discounts from 50% to 80%, which can significantly reduce course costs.\n",
    "\n",
    "The challenge is that Udemy does not notify users about these sales through promotional emails, making it easy to miss these savings opportunities. This project aims to create a price tracker that monitors the cost of a specified course. When the course is available at a discounted price, the user receives an email alert, allowing them to purchase at the best possible price."
   ]
  },
  {
   "cell_type": "code",
   "execution_count": 1,
   "metadata": {},
   "outputs": [],
   "source": [
    "# Import libraries\n",
    "import requests\n",
    "from bs4 import BeautifulSoup\n",
    "from selenium import webdriver\n",
    "\n",
    "import http.client\n",
    "import json\n",
    "import os\n",
    "import csv\n",
    "import datetime\n",
    "\n",
    "import pandas as pd\n",
    "import matplotlib.pyplot as plt\n",
    "\n",
    "# Email sender\n",
    "import os\n",
    "from email.message import EmailMessage\n",
    "import ssl\n",
    "import smtplib\n",
    "from email.mime.text import MIMEText\n",
    "from email.mime.multipart import MIMEMultipart\n",
    "from email.mime.base import MIMEBase\n",
    "from email import encoders\n",
    "from email.mime.image import MIMEImage"
   ]
  },
  {
   "cell_type": "code",
   "execution_count": 2,
   "metadata": {},
   "outputs": [],
   "source": [
    "# The udemy course url\n",
    "url = 'https://www.udemy.com/course/complete-dbt-data-build-tool-bootcamp-zero-to-hero-learn-dbt/'"
   ]
  },
  {
   "cell_type": "markdown",
   "metadata": {},
   "source": [
    "We will first attempt to use BeautifulSoup to get the data."
   ]
  },
  {
   "cell_type": "code",
   "execution_count": 3,
   "metadata": {},
   "outputs": [
    {
     "name": "stdout",
     "output_type": "stream",
     "text": [
      "Error Code: 403\n"
     ]
    }
   ],
   "source": [
    "headers = {\n",
    "    \"User-Agent\":\"Mozilla/5.0 (Windows NT 10.0; Win64; x64) AppleWebKit/537.36 (KHTML, like Gecko) Chrome/120.0.0.0 Safari/537.36\"\n",
    "}\n",
    "response = requests.get(url, headers=headers)\n",
    "\n",
    "if response.status_code == 200:\n",
    "    soup = BeautifulSoup(response.content, \"html.parser\")\n",
    "else: \n",
    "    print(f'Error Code: {response.status_code}')"
   ]
  },
  {
   "cell_type": "markdown",
   "metadata": {},
   "source": [
    "Here we get a 403 error, meaning the server understood the request but refused to fulfill it. So we have to find another alternative method to get the data."
   ]
  },
  {
   "cell_type": "markdown",
   "metadata": {},
   "source": [
    "### Using Selenium & BeautifulSoup\n",
    "Here we will get course ID which we'll use later on."
   ]
  },
  {
   "cell_type": "code",
   "execution_count": 4,
   "metadata": {},
   "outputs": [
    {
     "name": "stdout",
     "output_type": "stream",
     "text": [
      "Course ID: 4405768\n"
     ]
    }
   ],
   "source": [
    "# get coursid from url\n",
    "driver = webdriver.Chrome()\n",
    "driver.get(url) \n",
    "\n",
    "page_source = BeautifulSoup(driver.page_source, 'html.parser') \n",
    "htmlText = page_source.select('body[id=\"udemy\"]')\n",
    "courseid = htmlText[0].get('data-clp-course-id')\n",
    "\n",
    "# close broswer\n",
    "driver.close()\n",
    "print(f'Course ID: {courseid}')"
   ]
  },
  {
   "cell_type": "markdown",
   "metadata": {},
   "source": [
    "### Using the API"
   ]
  },
  {
   "cell_type": "code",
   "execution_count": 5,
   "metadata": {},
   "outputs": [],
   "source": [
    "conn = http.client.HTTPSConnection('www.udemy.com')\n",
    "\n",
    "headers = {\n",
    "    'User-Agent': 'Mozilla/5.0 (Windows NT 10.0; Win64; x64) AppleWebKit/537.36 (KHTML, like Gecko) Chrome/130.0.0.0 Safari/537.36',\n",
    "    'Accept': 'application/json, text/plain, */*',\n",
    "    'Accept-Language': 'en-US',\n",
    "    'Referer': url,\n",
    "    'X-Requested-With': 'XMLHttpRequest'\n",
    "}\n",
    "\n",
    "conn.request(\n",
    "    'GET',\n",
    "    f'/api-2.0/pricing/?course_ids={courseid}&fields[pricing_result]=price,discount_price,list_price,price_detail,price_serve_tracking_id',\n",
    "    headers=headers\n",
    ")\n",
    "response = conn.getresponse()\n",
    "\n",
    "if response.status == 200:\n",
    "\n",
    "    # then we read the response and store as a df \n",
    "    data = response.read()\n",
    "    df =json.loads(data)\n",
    "\n",
    "else: \n",
    "    print(f'Error Code: {response.status}')"
   ]
  },
  {
   "cell_type": "markdown",
   "metadata": {},
   "source": [
    "Variables"
   ]
  },
  {
   "cell_type": "code",
   "execution_count": 6,
   "metadata": {},
   "outputs": [],
   "source": [
    "coursePricing = df['courses'][str(courseid)]\n",
    "\n",
    "originalPrice = coursePricing['list_price']['amount'] # Original price\n",
    "discountPrice = coursePricing['price']['amount'] # Discount Price\n",
    "\n",
    "# get course name\n",
    "courseURL = headers['Referer']\n",
    "courseName = courseURL.split('/')[4].replace('-',' ').title()\n",
    "\n",
    "# today's price\n",
    "today = datetime.date.today()"
   ]
  },
  {
   "cell_type": "markdown",
   "metadata": {},
   "source": [
    "Save in csv file to track the prices "
   ]
  },
  {
   "cell_type": "code",
   "execution_count": 7,
   "metadata": {},
   "outputs": [
    {
     "data": {
      "text/html": [
       "<div>\n",
       "<style scoped>\n",
       "    .dataframe tbody tr th:only-of-type {\n",
       "        vertical-align: middle;\n",
       "    }\n",
       "\n",
       "    .dataframe tbody tr th {\n",
       "        vertical-align: top;\n",
       "    }\n",
       "\n",
       "    .dataframe thead th {\n",
       "        text-align: right;\n",
       "    }\n",
       "</style>\n",
       "<table border=\"1\" class=\"dataframe\">\n",
       "  <thead>\n",
       "    <tr style=\"text-align: right;\">\n",
       "      <th></th>\n",
       "      <th>Course</th>\n",
       "      <th>Price</th>\n",
       "      <th>Discount Price</th>\n",
       "      <th>Date</th>\n",
       "    </tr>\n",
       "  </thead>\n",
       "  <tbody>\n",
       "    <tr>\n",
       "      <th>0</th>\n",
       "      <td>Complete Dbt Data Build Tool Bootcamp Zero To ...</td>\n",
       "      <td>109.99</td>\n",
       "      <td>17.99</td>\n",
       "      <td>2024-10-28</td>\n",
       "    </tr>\n",
       "    <tr>\n",
       "      <th>1</th>\n",
       "      <td>Complete Dbt Data Build Tool Bootcamp Zero To ...</td>\n",
       "      <td>109.99</td>\n",
       "      <td>109.99</td>\n",
       "      <td>2024-10-29</td>\n",
       "    </tr>\n",
       "  </tbody>\n",
       "</table>\n",
       "</div>"
      ],
      "text/plain": [
       "                                              Course   Price  Discount Price  \\\n",
       "0  Complete Dbt Data Build Tool Bootcamp Zero To ...  109.99           17.99   \n",
       "1  Complete Dbt Data Build Tool Bootcamp Zero To ...  109.99          109.99   \n",
       "\n",
       "        Date  \n",
       "0 2024-10-28  \n",
       "1 2024-10-29  "
      ]
     },
     "execution_count": 7,
     "metadata": {},
     "output_type": "execute_result"
    }
   ],
   "source": [
    "header = ['Course','Price','Discount Price','Date']\n",
    "data = [courseName, originalPrice, discountPrice, today]\n",
    "\n",
    "# insert into our csv\n",
    "with open('CoursePriceTracker.csv', 'a+', newline='', encoding='UTF8') as f:\n",
    "    writer = csv.writer(f)\n",
    "    #writer.writerow(header)\n",
    "    writer.writerow(data)\n",
    "\n",
    "# preview the csv\n",
    "csv_data = pd.read_csv(r'./CoursePriceTracker.csv').drop_duplicates().reset_index(drop=True)\n",
    "desired_course = csv_data[csv_data['Course'] == courseName].copy() # get for a specific course\n",
    "\n",
    "desired_course['Date'] = pd.to_datetime(desired_course['Date'])  # Convert 'Date' column to datetime\n",
    "time_period = (desired_course['Date'].max() - desired_course['Date'].min()).days\n",
    "desired_course.head()"
   ]
  },
  {
   "cell_type": "markdown",
   "metadata": {},
   "source": [
    "Plot the price trends in the last days."
   ]
  },
  {
   "cell_type": "code",
   "execution_count": 8,
   "metadata": {},
   "outputs": [
    {
     "data": {
      "image/png": "[encoded data removed]",
      "text/plain": [
       "<Figure size 1000x400 with 1 Axes>"
      ]
     },
     "metadata": {},
     "output_type": "display_data"
    }
   ],
   "source": [
    "# Plot the image and attach to the email\n",
    "fig, axes = plt.subplots(figsize = (10,4))\n",
    "\n",
    "# convert date to readable day\n",
    "desired_course['Day'] = desired_course['Date'].dt.strftime('%b %d')\n",
    "\n",
    "axes.plot(desired_course['Day'], desired_course['Discount Price'], color = 'orange',\n",
    "          lw = 2, linestyle = '-.')\n",
    "\n",
    "axes.set_title('Course Price History')\n",
    "axes.set_xlabel('Day', color=\"blue\")\n",
    "axes.set_ylabel('Price', color=\"red\")\n",
    "plt.show()\n",
    "\n",
    "# Export the image\n",
    "fig.savefig('CourseTrackerImage.png', dpi=100)"
   ]
  },
  {
   "cell_type": "markdown",
   "metadata": {},
   "source": [
    "Send an email when we have a discount or drop in price."
   ]
  },
  {
   "cell_type": "code",
   "execution_count": 9,
   "metadata": {},
   "outputs": [
    {
     "name": "stdout",
     "output_type": "stream",
     "text": [
      "Not on sale today :(\n"
     ]
    }
   ],
   "source": [
    "setAmount = 20 # custom set price\n",
    "\n",
    "# if the discount price is below a certain amount OR if the dictionary is not empty then send email\n",
    "if coursePricing.get('discount_price') is not None or discountPrice < setAmount:\n",
    "    \n",
    "    # send email\n",
    "    email_sender = '##' # insert sender email\n",
    "    email_password = os.environ.get(\"GMAIL_PASSWORD\")\n",
    "    email_receiver = '##' # insert receiver email\n",
    "\n",
    "    subjectText = courseName.split( )[0] + ' ' + courseName.split( )[1]+ ' ... ' \\\n",
    "            + courseName.split( )[-2] + ' ' + courseName.split( )[-1]\n",
    "    \n",
    "    subject = f'UDEMY PRICE DROP!! {subjectText} is now ${discountPrice}!'\n",
    "\n",
    "    body = f\"\"\"\n",
    "    <html>\n",
    "    <body>\n",
    "        <p>Good day Razak,<br>\n",
    "        <br>\n",
    "        The <strong>{courseName}</strong> course is now on sale for <strong>${discountPrice}</strong> on Udemy. <br>\n",
    "        Here's the link to the course - <a href=\"{courseURL}\">{courseURL}</a><br>\n",
    "        Below is the price trend for the last <strong>{time_period}</strong> days.</p>\n",
    "        <img src=\"cid:embedded_image\">\n",
    "    </body>\n",
    "    </html>\n",
    "    \"\"\"\n",
    "\n",
    "    em = EmailMessage()\n",
    "    em['From'] = email_sender\n",
    "    em['To'] = email_receiver\n",
    "    em['Subject'] = subject\n",
    "    em.set_content(body, subtype='html')\n",
    "    em.add_alternative(body, subtype='html')\n",
    "\n",
    "    # Open the image file in binary mode\n",
    "    with open('./CourseTrackerImage.png', 'rb') as img_file:\n",
    "        img_data = img_file.read()\n",
    "\n",
    "    # Add image as inline content\n",
    "    image = MIMEImage(img_data)\n",
    "    image.add_header('Content-ID', '<embedded_image>')\n",
    "    #em.attach(image)\n",
    "    \n",
    "\n",
    "    # add security\n",
    "    context = ssl.create_default_context()\n",
    "\n",
    "    # send email\n",
    "    with smtplib.SMTP_SSL('smtp.gmail.com', port=465, context=context) as smtp:\n",
    "\n",
    "        # log in and send email\n",
    "        smtp.login(email_sender, email_password)\n",
    "        smtp.sendmail(email_sender, email_receiver, em.as_string())\n",
    "\n",
    "    print(f'Email sent to {email_receiver}!')\n",
    "    \n",
    "else:\n",
    "     print('Not on sale today :(')"
   ]
  }
 ],
 "metadata": {
  "kernelspec": {
   "display_name": "Python 3",
   "language": "python",
   "name": "python3"
  },
  "language_info": {
   "codemirror_mode": {
    "name": "ipython",
    "version": 3
   },
   "file_extension": ".py",
   "mimetype": "text/x-python",
   "name": "python",
   "nbconvert_exporter": "python",
   "pygments_lexer": "ipython3",
   "version": "3.12.4"
  }
 },
 "nbformat": 4,
 "nbformat_minor": 2
}
